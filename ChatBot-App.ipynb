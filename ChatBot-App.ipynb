{
 "cells": [
  {
   "cell_type": "code",
   "execution_count": 1,
   "id": "4b49cac7",
   "metadata": {},
   "outputs": [
    {
     "name": "stderr",
     "output_type": "stream",
     "text": [
      "[nltk_data] Downloading package punkt to C:\\Users\\Anant\n",
      "[nltk_data]     Paliwal\\AppData\\Roaming\\nltk_data...\n",
      "[nltk_data]   Package punkt is already up-to-date!\n",
      "[nltk_data] Downloading package wordnet to C:\\Users\\Anant\n",
      "[nltk_data]     Paliwal\\AppData\\Roaming\\nltk_data...\n",
      "[nltk_data]   Package wordnet is already up-to-date!\n"
     ]
    },
    {
     "name": "stdout",
     "output_type": "stream",
     "text": [
      "BOT: Hi i am bot.\n",
      "quit\n",
      "BOT: "
     ]
    },
    {
     "name": "stderr",
     "output_type": "stream",
     "text": [
      "C:\\Users\\Anant Paliwal\\anaconda3\\lib\\site-packages\\sklearn\\feature_extraction\\text.py:388: UserWarning: Your stop_words may be inconsistent with your preprocessing. Tokenizing the stop words generated tokens ['ha', 'le', 'u', 'wa'] not in stop_words.\n",
      "  warnings.warn('Your stop_words may be inconsistent with '\n"
     ]
    },
    {
     "name": "stdout",
     "output_type": "stream",
     "text": [
      " I am sorry! I don't understand you\n",
      "bye\n",
      "BOT: Goodbye! Take care <3\n"
     ]
    }
   ],
   "source": [
    "from GreatLearning import user_response , response , greet , sent_tokens , word_tokens"
   ]
  },
  {
   "cell_type": "code",
   "execution_count": 2,
   "id": "03e0caa2",
   "metadata": {},
   "outputs": [],
   "source": [
    "\n",
    "    \n",
    "from tkinter import *\n",
    "\n",
    "\n",
    "\n",
    "BG_GRAY = \"#ABB2B9\"\n",
    "BG_COLOR = \"#17202A\"\n",
    "TEXT_COLOR = \"#EAECEE\"\n",
    "\n",
    "FONT = \"Helvetica 14\"\n",
    "FONT_BOLD = \"Helvetica 13 bold\"\n",
    "\n",
    "class ChatApplication:\n",
    "\n",
    "    def __init__(self):\n",
    "        self.window = Tk()\n",
    "        self._setup_main_window()\n",
    "\n",
    "    def run(self):\n",
    "        self.window.mainloop()\n",
    "\n",
    "    def _setup_main_window(self):\n",
    "        self.window.title(\"Chat\")\n",
    "        self.window.resizable(width=False, height=False)\n",
    "        self.window.configure(width=470, height=550, bg=BG_COLOR)\n",
    "\n",
    "        # head label\n",
    "        head_label = Label(self.window, bg=BG_COLOR, fg=TEXT_COLOR,\n",
    "                           text=\"Chatbot Anant\", font=FONT_BOLD, pady=10)\n",
    "        head_label.place(relwidth=1)\n",
    "\n",
    "        # tiny divider\n",
    "        line = Label(self.window, width=450, bg=BG_GRAY)\n",
    "        line.place(relwidth=1, rely=0.07, relheight=0.012)\n",
    "\n",
    "        # text widget\n",
    "        self.text_widget = Text(self.window, width=20, height=2, bg=BG_COLOR, fg=TEXT_COLOR,\n",
    "                                font=FONT, padx=5, pady=5)\n",
    "        self.text_widget.place(relheight=0.745, relwidth=1, rely=0.08)\n",
    "        self.text_widget.configure(cursor=\"arrow\", state=DISABLED)\n",
    "\n",
    "        # scroll bar\n",
    "        scrollbar = Scrollbar(self.text_widget)\n",
    "        scrollbar.place(relheight=1, relx=0.974)\n",
    "        scrollbar.configure(command=self.text_widget.yview)\n",
    "\n",
    "        # bottom label\n",
    "        bottom_label = Label(self.window, bg=BG_GRAY, height=80)\n",
    "        bottom_label.place(relwidth=1, rely=0.825)\n",
    "\n",
    "        # message entry box\n",
    "        self.msg_entry = Entry(bottom_label, bg=\"#2C3E50\", fg=TEXT_COLOR, font=FONT)\n",
    "        self.msg_entry.place(relwidth=0.74, relheight=0.06, rely=0.008, relx=0.011)\n",
    "        self.msg_entry.focus()\n",
    "        self.msg_entry.bind(\"<Return>\", self._on_enter_pressed)\n",
    "\n",
    "        # send button\n",
    "        send_button = Button(bottom_label, text=\"Send\", font=FONT_BOLD, width=20, bg=BG_GRAY,\n",
    "                             command=lambda: self._on_enter_pressed(None))\n",
    "        send_button.place(relx=0.77, rely=0.008, relheight=0.06, relwidth=0.22)\n",
    "\n",
    "    def _on_enter_pressed(self, event):\n",
    "        user_response = self.msg_entry.get()\n",
    "        self._insert_message(user_response, \"You\")\n",
    "        \n",
    "    def _insert_message(self, user_response, sender):\n",
    "        if not user_response:\n",
    "            return\n",
    "\n",
    "        self.msg_entry.delete(0, END)\n",
    "       \n",
    "        msg1 = f\"{sender}: {user_response}\\n\\n\"\n",
    "        self.text_widget.configure(state=NORMAL)\n",
    "        self.text_widget.insert(END, msg1)\n",
    "        self.text_widget.configure(state=DISABLED)\n",
    "        \n",
    "            \n",
    "        if(greet(user_response)!=None):\n",
    "        \n",
    "               \n",
    "                \n",
    "                msg2 = f\"Bot: {greet(user_response)}\\n\\n\"\n",
    "                self.text_widget.configure(state=NORMAL)\n",
    "                self.text_widget.insert(END, msg2)\n",
    "                self.text_widget.configure(state=DISABLED)\n",
    "\n",
    "                  \n",
    "        else:\n",
    "                sent_tokens.append(user_response)\n",
    "                msg3 = f\"{response(user_response)}\\n\\n\"\n",
    "                \n",
    "                self.text_widget.configure(state=NORMAL)\n",
    "                self.text_widget.insert(END, msg3)\n",
    "                self.text_widget.configure(state=DISABLED)\n",
    "\n",
    "                self.text_widget.see(END)\n",
    "\n",
    "    \n",
    "        \n",
    "        \n",
    "#         msg2 = f\"{response(user_response)}\\n\\n\"\n",
    "#         self.text_widget.configure(state=NORMAL)\n",
    "#         self.text_widget.insert(END, msg2)\n",
    "#         self.text_widget.configure(state=DISABLED)\n",
    "\n",
    "\n",
    "#         self.text_widget.see(END)\n",
    "\n",
    "\n",
    "if __name__ == \"__main__\":\n",
    "    app = ChatApplication()\n",
    "    app.run()"
   ]
  },
  {
   "cell_type": "code",
   "execution_count": null,
   "id": "cc2d5d90",
   "metadata": {},
   "outputs": [],
   "source": []
  },
  {
   "cell_type": "code",
   "execution_count": null,
   "id": "85c16153",
   "metadata": {},
   "outputs": [],
   "source": []
  },
  {
   "cell_type": "code",
   "execution_count": null,
   "id": "e46cc2ef",
   "metadata": {},
   "outputs": [],
   "source": []
  },
  {
   "cell_type": "code",
   "execution_count": null,
   "id": "981ac823",
   "metadata": {},
   "outputs": [],
   "source": []
  },
  {
   "cell_type": "code",
   "execution_count": null,
   "id": "7d5545ad",
   "metadata": {},
   "outputs": [],
   "source": []
  },
  {
   "cell_type": "code",
   "execution_count": null,
   "id": "6088da43",
   "metadata": {},
   "outputs": [],
   "source": []
  },
  {
   "cell_type": "code",
   "execution_count": null,
   "id": "5c351874",
   "metadata": {},
   "outputs": [],
   "source": []
  },
  {
   "cell_type": "code",
   "execution_count": null,
   "id": "83da79bc",
   "metadata": {},
   "outputs": [],
   "source": []
  },
  {
   "cell_type": "code",
   "execution_count": null,
   "id": "34873aab",
   "metadata": {},
   "outputs": [],
   "source": []
  },
  {
   "cell_type": "code",
   "execution_count": null,
   "id": "01c7ac12",
   "metadata": {},
   "outputs": [],
   "source": []
  },
  {
   "cell_type": "code",
   "execution_count": null,
   "id": "51f4f066",
   "metadata": {},
   "outputs": [],
   "source": []
  },
  {
   "cell_type": "code",
   "execution_count": null,
   "id": "2f75ea7d",
   "metadata": {},
   "outputs": [],
   "source": []
  },
  {
   "cell_type": "code",
   "execution_count": null,
   "id": "f6a4195e",
   "metadata": {},
   "outputs": [],
   "source": []
  },
  {
   "cell_type": "code",
   "execution_count": null,
   "id": "9f7507a7",
   "metadata": {},
   "outputs": [],
   "source": []
  },
  {
   "cell_type": "code",
   "execution_count": null,
   "id": "7f507d8d",
   "metadata": {},
   "outputs": [],
   "source": []
  }
 ],
 "metadata": {
  "kernelspec": {
   "display_name": "Python 3 (ipykernel)",
   "language": "python",
   "name": "python3"
  },
  "language_info": {
   "codemirror_mode": {
    "name": "ipython",
    "version": 3
   },
   "file_extension": ".py",
   "mimetype": "text/x-python",
   "name": "python",
   "nbconvert_exporter": "python",
   "pygments_lexer": "ipython3",
   "version": "3.9.7"
  }
 },
 "nbformat": 4,
 "nbformat_minor": 5
}
